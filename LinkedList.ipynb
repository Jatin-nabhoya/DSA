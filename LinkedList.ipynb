{
 "cells": [
  {
   "cell_type": "code",
   "execution_count": 509,
   "metadata": {},
   "outputs": [],
   "source": [
    "class Node:\n",
    "    \n",
    "    def __init__(self, data):\n",
    "        self.data = data\n",
    "        self.next = None\n",
    "    \n",
    "class LinkedList:\n",
    "    \n",
    "    def __init__(self):\n",
    "        self.head=None\n",
    "        \n",
    "    # def PrintList(self):\n",
    "    #     temp= self.head\n",
    "    #     while(temp):\n",
    "    #         print(temp.data)\n",
    "    #         temp= temp.next\n",
    "    \n",
    "    def PrintList(self):\n",
    "        temp = self.head\n",
    "        while temp:\n",
    "            print(f\"{temp.data} -> \", end=\"\")\n",
    "            temp = temp.next\n",
    "        print(\"NULL\")\n",
    "        \n",
    "    # Function to insert a new node at the beginning\n",
    "    def insertAtHead(self, newData):\n",
    "\n",
    "        # 1 & 2: Allocate the Node &\n",
    "        # Put in the data\n",
    "        newNode = Node(newData)\n",
    "\n",
    "        # 3. Make next of new Node as head\n",
    "        newNode.next = self.head\n",
    "\n",
    "        # 4. Move the head to point to new Node\n",
    "        self.head = newNode\n",
    "        \n",
    "        \n",
    "    # Inserts a new node after the given prev_node. This method is\n",
    "    # defined inside LinkedList class shown above */\n",
    "    def insertAfter(self,prevNode,newData):\n",
    "         # 1. check if the given prev_node exists\n",
    "        if prevNode is None:\n",
    "            print(\"the given privious node must inlinkedlist\")\n",
    "            return\n",
    "        \n",
    "        # 2. Create new node &\n",
    "        # 3. Put in the data\n",
    "        newNode = Node(newData)\n",
    "        # 4. Make next of new Node as next of prev_node\n",
    "        newNode.next = prevNode.next\n",
    "        \n",
    "        # 5. make next of prev_node as new_node\n",
    "        prevNode.next = newNode\n",
    "        \n",
    "    \n",
    "    def insertAtEnd(self,newData):\n",
    "        current = self.head\n",
    "        \n",
    "        # Create a new node with newData\n",
    "        newNode = Node(newData)\n",
    "        \n",
    "        # if the head is empty\n",
    "        if self.head is None:\n",
    "            self.head= newNode\n",
    "        \n",
    "        # Traverse the list to find the last node   \n",
    "        while current.next is not None:\n",
    "            current =current.next\n",
    "        \n",
    "        # Setting the last node next to newNode\n",
    "        current.next =newNode \n",
    "       \n",
    "        \n",
    "    # Function to delete the head node\n",
    "    \n",
    "    def deleteAtBeginning(self):\n",
    "        if self.head is None:\n",
    "            print(\"List is empty, nothing to delete.\")\n",
    "            return  # Empty list\n",
    "\n",
    "        # Move head to the next node\n",
    "        temp = self.head\n",
    "        self.head = self.head.next\n",
    "        del temp\n",
    "        return\n",
    "    \n",
    "    # Function to delete a node with a given key\n",
    "    def deleteAtMiddel(self, key):\n",
    "        if self.head is None:\n",
    "            print(\"List is empty, nothing to delete.\")\n",
    "            return\n",
    "        \n",
    "        if self.head.data == key:\n",
    "            temp =self.head\n",
    "            self.head = self.head.next\n",
    "            del temp\n",
    "            return\n",
    "        \n",
    "        current = self.head\n",
    "        previous = None\n",
    "        \n",
    "        while current is not None and current.data != key:\n",
    "            previous = current\n",
    "            current = current.next\n",
    "        \n",
    "        # If the node was not found\n",
    "        if current is None:\n",
    "            print(\"Key not found in the list.\")\n",
    "            return\n",
    "\n",
    "        # Node found; unlink the node from the list\n",
    "        previous.next = current.next\n",
    "        del current\n",
    "    \n",
    "    # Function to delete the last node\n",
    "    def deleteAtEnd(self):\n",
    "        if self.head is None:\n",
    "            print(\"List is empty, nothing to delete.\")\n",
    "            return\n",
    "\n",
    "        if self.head.next is None:\n",
    "            self.head = None\n",
    "            return\n",
    "\n",
    "        current = self.head\n",
    "        previous = None\n",
    "        \n",
    "        # Traverse to find the last node\n",
    "        while current.next is not None:\n",
    "            previous=current\n",
    "            current =current.next\n",
    "\n",
    "        # Remove link to the last node\n",
    "        previous.next =None\n",
    "        \n",
    "    \n",
    "    # and a position, delete the node at a given position\n",
    "    def deleteAtAnyPosition(self, position):\n",
    "        if self.head is None:\n",
    "            print(\"List is empty, nothing to delete.\")\n",
    "            return\n",
    "        \n",
    "        index = 0\n",
    "        current = self.head\n",
    "        while current.next and index< position:\n",
    "            previous = current\n",
    "            current =current.next\n",
    "            index +=1\n",
    "        \n",
    "        if index < position:\n",
    "            print(\"\\nIndex is out of range.\")\n",
    "        elif index == 0:\n",
    "            self.head = self.head.next\n",
    "        else:\n",
    "            previous.next = current.next\n",
    "            # current = None #Optional statement\n",
    "     \n",
    "    #  Count Linked List Nodes       \n",
    "    def countLength(self):\n",
    "        if self.head is None:\n",
    "            print(\"List is empty!\")\n",
    "            return\n",
    "        \n",
    "        # Counts number of nodes in linked list\n",
    "        # Initialize count with 0\n",
    "        count= 0\n",
    "        # Initialize curr with head of Linked List\n",
    "        current =self.head\n",
    "        \n",
    "        # Traverse till we reach None\n",
    "        while current is not None:\n",
    "            # Increment count by 1\n",
    "            count += 1\n",
    "            \n",
    "            # Move pointer to next node\n",
    "            current = current.next\n",
    "        \n",
    "        # Return the count of nodes   \n",
    "        return count\n",
    "    \n",
    "    # # Recursive Approach to Find the Length of a Linked List:\n",
    "    # def count_Lenghth(self):\n",
    "    #     if self.head is None:\n",
    "    #         return 0\n",
    "            \n",
    "    #     return 1 + count_Lenghth(self.head.next)\n",
    "    \n",
    "    \n",
    "    def search(self, x):\n",
    "        current =self.head\n",
    "        while current is not None:\n",
    "            if current.data == x:\n",
    "                return True\n",
    "            return False\n",
    "    \n",
    "    def reverse(self):\n",
    "        prev = None\n",
    "        \n",
    "        current = self.head\n",
    "      \n",
    "        while(current is not None):\n",
    "            next = current.next\n",
    "            \n",
    "            current.next = prev\n",
    "           \n",
    "            prev = current\n",
    "          \n",
    "            current = next\n",
    "            \n",
    "        self.head = prev \n",
    "               "
   ]
  },
  {
   "cell_type": "code",
   "execution_count": 510,
   "metadata": {},
   "outputs": [],
   "source": [
    "llist = LinkedList()\n",
    "\n",
    "llist.head= Node(1)\n",
    "second = Node(2)\n",
    "third = Node(3)"
   ]
  },
  {
   "cell_type": "code",
   "execution_count": 511,
   "metadata": {},
   "outputs": [
    {
     "data": {
      "text/plain": [
       "'\\n    Now next of second Node refers to third. So all three\\n    nodes are linked.\\n\\n    llist.head     second             third\\n        |             |                 |\\n        |             |                 |\\n    +----+------+     +----+------+     +----+------+\\n    | 1 | o-------->| 2 | o-------->| 3 | null |\\n    +----+------+     +----+------+     +----+------+\\n'"
      ]
     },
     "execution_count": 511,
     "metadata": {},
     "output_type": "execute_result"
    }
   ],
   "source": [
   
    "llist.head.next = second; # Link first node with second\n",
    "\n",
    ,
    "second.next = third; # Link second node with the third node\n",
    "\n",
   
   ]
  },
  {
   "cell_type": "code",
   "execution_count": 512,
   "metadata": {},
   "outputs": [
    {
     "name": "stdout",
     "output_type": "stream",
     "text": [
      "1\n",
      "<__main__.Node object at 0x000001F2431E53A0>\n",
      "2\n",
      "<__main__.Node object at 0x000001F242FAC770>\n",
      "3\n",
      "None\n"
     ]
    }
   ],
   "source": [
    "# print each node as simple print method   \n",
    "print(llist.head.data)\n",
    "print(llist.head.next)\n",
    "\n",
    "print(second.data)\n",
    "print(second.next)\n",
    "\n",
    "print(third.data)\n",
    "print(third.next)\n"
   ]
  },
  {
   "cell_type": "code",
   "execution_count": 513,
   "metadata": {},
   "outputs": [
    {
     "name": "stdout",
     "output_type": "stream",
     "text": [
      "1 -> 2 -> 3 -> NULL\n"
     ]
    }
   ],
   "source": [
    "#  print linkedlist through function \n",
    "llist.PrintList()\n"
   ]
  },
  {
   "cell_type": "code",
   "execution_count": 514,
   "metadata": {},
   "outputs": [
    {
     "name": "stdout",
     "output_type": "stream",
     "text": [
      "new node at head -> 1 -> 2 -> 3 -> NULL\n"
     ]
    }
   ],
   "source": [
    "llist.insertAtHead(\"new node at head\")\n",
    "\n",
    "llist.PrintList()"
   ]
  },
  {
   "cell_type": "code",
   "execution_count": 515,
   "metadata": {},
   "outputs": [
    {
     "name": "stdout",
     "output_type": "stream",
     "text": [
      "new node at head -> 1 -> 2 -> enter new data at any postion -> 3 -> NULL\n"
     ]
    }
   ],
   "source": [
    "llist.insertAfter(second, \"enter new data at any postion\")\n",
    "\n",
    "llist.PrintList()"
   ]
  },
  {
   "cell_type": "code",
   "execution_count": 516,
   "metadata": {},
   "outputs": [
    {
     "name": "stdout",
     "output_type": "stream",
     "text": [
      "new node at head -> 1 -> 2 -> enter new data at any postion -> 3 -> inser new data at end of the linkedlist -> NULL\n"
     ]
    }
   ],
   "source": [
    "llist.insertAtEnd(\"inser new data at end of the linkedlist\")\n",
    "llist.PrintList()"
   ]
  },
  {
   "cell_type": "code",
   "execution_count": 517,
   "metadata": {},
   "outputs": [
    {
     "name": "stdout",
     "output_type": "stream",
     "text": [
      "Original list: \n",
      "new node at head -> 1 -> 2 -> enter new data at any postion -> 3 -> inser new data at end of the linkedlist -> NULL\n",
      "After deleting the head node: \n",
      "1 -> 2 -> enter new data at any postion -> 3 -> inser new data at end of the linkedlist -> NULL\n",
      "After deleting the last node: 1 -> 2 -> enter new data at any postion -> 3 -> NULL\n",
      "After deleting the node with key: \n",
      "1 -> 2 -> 3 -> NULL\n"
     ]
    }
   ],
   "source": [
    "print(\"Original list: \", end=\"\\n\")\n",
    "llist.PrintList()\n",
    "\n",
    "# Deleting the head node\n",
    "llist.deleteAtBeginning()\n",
    "print(\"After deleting the head node: \", end=\"\\n\")\n",
    "llist.PrintList()\n",
    "\n",
    "# Deleting the last node\n",
    "llist.deleteAtEnd()\n",
    "print(\"After deleting the last node: \", end=\"\")\n",
    "llist.PrintList()\n",
    "\n",
    "# Deleting a node with a specific key\n",
    "llist.deleteAtMiddel(\"enter new data at any postion\")\n",
    "print(\"After deleting the node with key: \")\n",
    "llist.PrintList()"
   ]
  },
  {
   "cell_type": "code",
   "execution_count": 518,
   "metadata": {},
   "outputs": [
    {
     "name": "stdout",
     "output_type": "stream",
     "text": [
      "1 -> 3 -> NULL\n",
      "list length is ::  2\n"
     ]
    }
   ],
   "source": [
    "llist.deleteAtAnyPosition(1)\n",
    "llist.PrintList()\n",
    "print(\"list length is :: \",llist.countLength())\n",
    "# print(\"list length is :: \",llist.count_Lenghth())"
   ]
  },
  {
   "cell_type": "code",
   "execution_count": 519,
   "metadata": {},
   "outputs": [
    {
     "data": {
      "text/plain": [
       "False"
      ]
     },
     "execution_count": 519,
     "metadata": {},
     "output_type": "execute_result"
    }
   ],
   "source": [
    "llist.search(2)\n"
   ]
  },
  {
   "cell_type": "code",
   "execution_count": 520,
   "metadata": {},
   "outputs": [
    {
     "data": {
      "text/plain": [
       "True"
      ]
     },
     "execution_count": 520,
     "metadata": {},
     "output_type": "execute_result"
    }
   ],
   "source": [
    "llist.search(1)"
   ]
  },
  {
   "cell_type": "code",
   "execution_count": 521,
   "metadata": {},
   "outputs": [
    {
     "name": "stdout",
     "output_type": "stream",
     "text": [
      "3 -> 1 -> NULL\n"
     ]
    }
   ],
   "source": [
    "llist.reverse()\n",
    "llist.PrintList()"
   ]
  }
 ],
 "metadata": {
  "kernelspec": {
   "display_name": "Python 3",
   "language": "python",
   "name": "python3"
  },
  "language_info": {
   "codemirror_mode": {
    "name": "ipython",
    "version": 3
   },
   "file_extension": ".py",
   "mimetype": "text/x-python",
   "name": "python",
   "nbconvert_exporter": "python",
   "pygments_lexer": "ipython3",
   "version": "3.12.4"
  }
 },
 "nbformat": 4,
 "nbformat_minor": 2
}
